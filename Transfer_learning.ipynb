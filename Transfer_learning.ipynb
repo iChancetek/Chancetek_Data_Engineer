{
  "nbformat": 4,
  "nbformat_minor": 0,
  "metadata": {
    "colab": {
      "provenance": [],
      "include_colab_link": true
    },
    "kernelspec": {
      "name": "python3",
      "display_name": "Python 3"
    },
    "language_info": {
      "name": "python"
    },
    "accelerator": "GPU"
  },
  "cells": [
    {
      "cell_type": "markdown",
      "metadata": {
        "id": "view-in-github",
        "colab_type": "text"
      },
      "source": [
        "<a href=\"https://colab.research.google.com/github/iChancetek/Chancetek_Data_Engineer/blob/main/Transfer_learning.ipynb\" target=\"_parent\"><img src=\"https://colab.research.google.com/assets/colab-badge.svg\" alt=\"Open In Colab\"/></a>"
      ]
    },
    {
      "cell_type": "code",
      "execution_count": null,
      "metadata": {
        "id": "RriL6uEnbl8E"
      },
      "outputs": [],
      "source": [
        "import tensorflow_datasets as tfds\n",
        "import tensorflow as tf"
      ]
    },
    {
      "cell_type": "code",
      "source": [
        "dataset, info = tfds.load(\"tf_flowers\",\n",
        "                          as_supervised=True,\n",
        "                          with_info=True)"
      ],
      "metadata": {
        "id": "SwToEzgVbt1u"
      },
      "execution_count": null,
      "outputs": []
    },
    {
      "cell_type": "code",
      "source": [
        "dataset_size = info.splits[\"train\"].num_examples\n",
        "class_names = info.features[\"label\"].names\n",
        "n_classes = info. features[\"label\"].num_classes"
      ],
      "metadata": {
        "id": "PRBCyxTncAeH"
      },
      "execution_count": null,
      "outputs": []
    },
    {
      "cell_type": "code",
      "source": [
        "test_set_raw, valid_set_raw, train_set_raw\n",
        "            = tfds.load(\"tf_flowers\",\n",
        "                        split=[\"train[:10%]\",\n",
        "                               \"train[10%:25%]\",\n",
        "                               \"train[25%:]\"],\n",
        "                        as_supervised=True)"
      ],
      "metadata": {
        "id": "fW8yFue-c81b"
      },
      "execution_count": null,
      "outputs": []
    },
    {
      "cell_type": "code",
      "source": [],
      "metadata": {
        "id": "uLXnqj028O1c"
      },
      "execution_count": null,
      "outputs": []
    },
    {
      "cell_type": "code",
      "source": [
        "def preprocess(image,label):\n",
        "    resized_image = tf.image.resize(image, [224,224])\n",
        "    final_image = tf.keras.applications.xception.preprocess_input(resized_image)\n",
        "    return final_image, label\n"
      ],
      "metadata": {
        "id": "z8M_BmYOdXdR"
      },
      "execution_count": null,
      "outputs": []
    },
    {
      "cell_type": "code",
      "source": [
        "batch_size = 32\n",
        "train_set = train_set_raw.shuffle(1000)\n",
        "train_set = train_set.map(preprocess).batch(batch_size).prefetch(1)\n",
        "valid_set = valid_set_raw.map(preprocess).batch(batch_size).prefetch(1)\n",
        "test_set = test_set_raw.map(preprocess).batch(batch_size).prefetch(1)"
      ],
      "metadata": {
        "id": "mi9mPzsfd7pJ"
      },
      "execution_count": null,
      "outputs": []
    },
    {
      "cell_type": "code",
      "source": [
        "base_model = tf.keras.applications.xception.Xception(weights=\"imagenet\",\n",
        "                                            include_top=False)\n",
        "\n",
        "\n",
        "avg = tf.keras.layers.GlobalAveragePooling2D()(base_model.output)\n",
        "output = tf.keras.layers.Dense(n_classes, activation=\"softmax\")(avg)\n",
        "\n",
        "\n",
        "model = tf.keras.Model(inputs=base_model.input, outputs=output)"
      ],
      "metadata": {
        "id": "IHGF1v1_eU2U",
        "colab": {
          "base_uri": "https://localhost:8080/"
        },
        "outputId": "42775e7e-d29e-41fc-e662-b7f44c6b3ad9"
      },
      "execution_count": null,
      "outputs": [
        {
          "output_type": "stream",
          "name": "stdout",
          "text": [
            "Downloading data from https://storage.googleapis.com/tensorflow/keras-applications/xception/xception_weights_tf_dim_ordering_tf_kernels_notop.h5\n",
            "83689472/83683744 [==============================] - 0s 0us/step\n",
            "83697664/83683744 [==============================] - 0s 0us/step\n"
          ]
        }
      ]
    },
    {
      "cell_type": "code",
      "source": [
        "for layer in base_model.layers:\n",
        "  layer.trainable = False"
      ],
      "metadata": {
        "id": "1Dx3bFypf8-w"
      },
      "execution_count": null,
      "outputs": []
    },
    {
      "cell_type": "code",
      "source": [
        "optimizer = tf.keras.optimizers.SGD(lr=0.2,\n",
        "                                    momentum=0.9,\n",
        "                                    decay=0.01)\n",
        "\n",
        "model.compile(loss=\"sparse_categorical_crossentropy\",\n",
        "              optimizer=optimizer,\n",
        "              metrics=[\"accuracy\"])\n",
        "\n",
        "\n",
        "history = model.fit(train_set,\n",
        "                    epochs=5,\n",
        "                    validation_data=valid_set)"
      ],
      "metadata": {
        "colab": {
          "base_uri": "https://localhost:8080/"
        },
        "id": "VWTzFTapgNA9",
        "outputId": "66fc6c3c-80c5-438f-ac3a-f5557330d5d5"
      },
      "execution_count": null,
      "outputs": [
        {
          "output_type": "stream",
          "name": "stderr",
          "text": [
            "/usr/local/lib/python3.7/dist-packages/keras/optimizer_v2/gradient_descent.py:102: UserWarning: The `lr` argument is deprecated, use `learning_rate` instead.\n",
            "  super(SGD, self).__init__(name, **kwargs)\n"
          ]
        },
        {
          "output_type": "stream",
          "name": "stdout",
          "text": [
            "Epoch 1/5\n",
            "86/86 [==============================] - 27s 159ms/step - loss: 2.1620 - accuracy: 0.7776 - val_loss: 1.4695 - val_accuracy: 0.8385\n",
            "Epoch 2/5\n",
            "86/86 [==============================] - 13s 145ms/step - loss: 0.5523 - accuracy: 0.9121 - val_loss: 0.9891 - val_accuracy: 0.8530\n",
            "Epoch 3/5\n",
            "86/86 [==============================] - 13s 146ms/step - loss: 0.2551 - accuracy: 0.9390 - val_loss: 0.8190 - val_accuracy: 0.8748\n",
            "Epoch 4/5\n",
            "86/86 [==============================] - 13s 147ms/step - loss: 0.1505 - accuracy: 0.9597 - val_loss: 0.8432 - val_accuracy: 0.8566\n",
            "Epoch 5/5\n",
            "86/86 [==============================] - 13s 147ms/step - loss: 0.1044 - accuracy: 0.9738 - val_loss: 0.8021 - val_accuracy: 0.8838\n"
          ]
        }
      ]
    },
    {
      "cell_type": "code",
      "source": [
        "for layer in base_model.layers:\n",
        "  layer.trainable = True"
      ],
      "metadata": {
        "id": "kDW2Ktf5g1Ua"
      },
      "execution_count": null,
      "outputs": []
    },
    {
      "cell_type": "code",
      "source": [
        "optimizer = tf.keras.optimizers.SGD(lr=0.01,\n",
        "                                    momentum=0.9,\n",
        "                                    decay=0.001)\n",
        "\n",
        "model.compile(loss=\"sparse_categorical_crossentropy\",\n",
        "              optimizer=optimizer,\n",
        "              metrics=[\"accuracy\"])\n",
        "\n",
        "history = model.fit(train_set,\n",
        "                    epochs=10,\n",
        "                    validation_data=valid_set)"
      ],
      "metadata": {
        "colab": {
          "base_uri": "https://localhost:8080/"
        },
        "id": "wXGos54dkGDZ",
        "outputId": "b320ae07-46ba-4553-dfc3-7c4604291330"
      },
      "execution_count": null,
      "outputs": [
        {
          "output_type": "stream",
          "name": "stdout",
          "text": [
            "Epoch 1/10\n"
          ]
        },
        {
          "output_type": "stream",
          "name": "stderr",
          "text": [
            "/usr/local/lib/python3.7/dist-packages/keras/optimizer_v2/gradient_descent.py:102: UserWarning: The `lr` argument is deprecated, use `learning_rate` instead.\n",
            "  super(SGD, self).__init__(name, **kwargs)\n"
          ]
        },
        {
          "output_type": "stream",
          "name": "stdout",
          "text": [
            "86/86 [==============================] - 59s 613ms/step - loss: 0.4106 - accuracy: 0.8648 - val_loss: 0.6564 - val_accuracy: 0.8711\n",
            "Epoch 2/10\n",
            "86/86 [==============================] - 52s 604ms/step - loss: 0.0905 - accuracy: 0.9688 - val_loss: 0.4073 - val_accuracy: 0.8802\n",
            "Epoch 3/10\n",
            "86/86 [==============================] - 52s 605ms/step - loss: 0.0179 - accuracy: 0.9945 - val_loss: 0.3453 - val_accuracy: 0.9201\n",
            "Epoch 4/10\n",
            "86/86 [==============================] - 52s 610ms/step - loss: 0.0208 - accuracy: 0.9938 - val_loss: 0.4803 - val_accuracy: 0.8984\n",
            "Epoch 5/10\n",
            "86/86 [==============================] - 52s 605ms/step - loss: 0.0203 - accuracy: 0.9945 - val_loss: 0.3318 - val_accuracy: 0.9183\n",
            "Epoch 6/10\n",
            "86/86 [==============================] - 53s 610ms/step - loss: 0.0085 - accuracy: 0.9971 - val_loss: 0.3324 - val_accuracy: 0.9201\n",
            "Epoch 7/10\n",
            "86/86 [==============================] - 53s 618ms/step - loss: 0.0149 - accuracy: 0.9953 - val_loss: 0.3581 - val_accuracy: 0.9183\n",
            "Epoch 8/10\n",
            "86/86 [==============================] - 52s 609ms/step - loss: 0.0044 - accuracy: 0.9989 - val_loss: 0.3302 - val_accuracy: 0.9310\n",
            "Epoch 9/10\n",
            "86/86 [==============================] - 52s 606ms/step - loss: 0.0025 - accuracy: 0.9993 - val_loss: 0.3622 - val_accuracy: 0.9238\n",
            "Epoch 10/10\n",
            "86/86 [==============================] - 53s 609ms/step - loss: 0.0061 - accuracy: 0.9975 - val_loss: 0.3859 - val_accuracy: 0.9183\n"
          ]
        }
      ]
    },
    {
      "cell_type": "code",
      "source": [],
      "metadata": {
        "id": "cbrL2vTb_xrq"
      },
      "execution_count": null,
      "outputs": []
    }
  ]
}